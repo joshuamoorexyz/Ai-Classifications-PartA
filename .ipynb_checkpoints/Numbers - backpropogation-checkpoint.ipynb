{
 "cells": [
  {
   "cell_type": "code",
   "execution_count": null,
   "id": "f2d8d760",
   "metadata": {},
   "outputs": [],
   "source": []
  }
 ],
 "metadata": {
  "kernelspec": {
   "display_name": "Python 3.10.8 64-bit (microsoft store)",
   "language": "python",
   "name": "python3"
  },
  "language_info": {
   "codemirror_mode": {
    "name": "ipython",
    "version": 3
   },
   "file_extension": ".py",
   "mimetype": "text/x-python",
   "name": "python",
   "nbconvert_exporter": "python",
   "pygments_lexer": "ipython3",
   "version": "3.10.8"
  },
  "vscode": {
   "interpreter": {
    "hash": "ecb08aa591a51581a9a93cc4aa32f495f9dd701d182a9a08f7a57601bb3beda0"
   }
  }
 },
 "nbformat": 4,
 "nbformat_minor": 5
}
