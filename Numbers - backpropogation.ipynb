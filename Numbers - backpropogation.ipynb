{
 "cells": [
  {
   "cell_type": "markdown",
   "id": "768b02da",
   "metadata": {},
   "source": [
    "# Citations\n",
    "https://python-course.eu/machine-learning/neural-network-digits-dataset.php"
   ]
  },
  {
   "cell_type": "code",
   "execution_count": 1,
   "id": "f2d8d760",
   "metadata": {},
   "outputs": [],
   "source": [
    "import numpy as np #for numerical operations\n",
    "import pandas as pd #for dataframes\n",
    "import matplotlib.pyplot as plt #for plotting data\n",
    "import seaborn as sns\n",
    "from sklearn import datasets #sklearn datasets needed (IRIS and Digits)"
   ]
  },
  {
   "cell_type": "code",
   "execution_count": 19,
   "id": "40479449",
   "metadata": {},
   "outputs": [],
   "source": [
    "from sklearn import metrics #calculate accuracy of model\n",
    "from sklearn import preprocessing\n",
    "from sklearn.model_selection import train_test_split\n",
    "from sklearn.preprocessing import scale\n",
    "from sklearn.metrics import accuracy_score\n",
    "from sklearn.datasets import load_digits\n",
    "from sklearn.model_selection import train_test_split\n",
    "from sklearn.preprocessing import StandardScaler\n",
    "from sklearn.neural_network import MLPClassifier\n",
    "from sklearn.metrics import classification_report, confusion_matrix\n",
    "\n",
    "%matplotlib inline \n",
    "#allows charts to be displayed within our notebook"
   ]
  },
  {
   "cell_type": "code",
   "execution_count": 14,
   "id": "2b4666ad",
   "metadata": {},
   "outputs": [],
   "source": [
    "digits=load_digits()"
   ]
  },
  {
   "cell_type": "code",
   "execution_count": 15,
   "id": "273c413c",
   "metadata": {},
   "outputs": [],
   "source": [
    "n_samples, n_features = digits.data.shape"
   ]
  },
  {
   "cell_type": "code",
   "execution_count": 16,
   "id": "3274e76f",
   "metadata": {},
   "outputs": [],
   "source": [
    "res = train_test_split(digits.data, digits.target, \n",
    "                       train_size=0.8,\n",
    "                       test_size=0.2,\n",
    "                       random_state=1)\n",
    "train_data, test_data, train_labels, test_labels = res "
   ]
  },
  {
   "cell_type": "code",
   "execution_count": 32,
   "id": "b6a4b904",
   "metadata": {},
   "outputs": [
    {
     "name": "stdout",
     "output_type": "stream",
     "text": [
      "5 0.8055555555555556\n",
      "6 0.775\n",
      "7 0.8916666666666667\n",
      "8 0.9277777777777778\n",
      "9 0.9333333333333333\n",
      "10 0.9333333333333333\n",
      "11 0.9472222222222222\n",
      "12 0.8944444444444445\n",
      "13 0.9138888888888889\n",
      "14 0.9194444444444444\n",
      "15 0.9444444444444444\n",
      "16 0.9583333333333334\n",
      "17 0.9444444444444444\n",
      "18 0.9277777777777778\n",
      "19 0.9583333333333334\n",
      "20 0.9694444444444444\n",
      "21 0.9722222222222222\n",
      "22 0.9694444444444444\n",
      "23 0.9277777777777778\n",
      "24 0.9777777777777777\n",
      "25 0.9444444444444444\n",
      "26 0.9722222222222222\n",
      "27 0.9694444444444444\n",
      "28 0.9833333333333333\n",
      "29 0.9638888888888889\n",
      "30 0.9694444444444444\n",
      "31 0.9694444444444444\n",
      "32 0.975\n",
      "33 0.9722222222222222\n",
      "34 0.9666666666666667\n"
     ]
    }
   ],
   "source": [
    "for i in range(5, 35):\n",
    "    mlp = MLPClassifier(hidden_layer_sizes=(i,), \n",
    "                        activation='logistic', \n",
    "                        random_state=1,\n",
    "                        alpha=1e-4,\n",
    "                        max_iter=10000,\n",
    "                        solver='sgd', \n",
    "                        tol=1e-4,\n",
    "                        learning_rate_init=.3, \n",
    "                        verbose=False)\n",
    "    mlp.fit(train_data, train_labels)\n",
    "    predictions = mlp.predict(test_data)\n",
    "    acc_score = accuracy_score(test_labels, predictions)\n",
    "    print(i, acc_score)"
   ]
  }
 ],
 "metadata": {
  "kernelspec": {
   "display_name": "Python 3 (ipykernel)",
   "language": "python",
   "name": "python3"
  },
  "language_info": {
   "codemirror_mode": {
    "name": "ipython",
    "version": 3
   },
   "file_extension": ".py",
   "mimetype": "text/x-python",
   "name": "python",
   "nbconvert_exporter": "python",
   "pygments_lexer": "ipython3",
   "version": "3.10.8"
  },
  "vscode": {
   "interpreter": {
    "hash": "ecb08aa591a51581a9a93cc4aa32f495f9dd701d182a9a08f7a57601bb3beda0"
   }
  }
 },
 "nbformat": 4,
 "nbformat_minor": 5
}
